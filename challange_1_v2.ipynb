{
 "cells": [
  {
   "cell_type": "markdown",
   "id": "6ea11fdf-d3b9-4f1a-8446-1ed9ce862a94",
   "metadata": {},
   "source": [
    "### Cell 1 – Setup & Imports"
   ]
  },
  {
   "cell_type": "code",
   "execution_count": 1,
   "id": "e4c45431-231a-4868-9bcd-2ce37dbbfb4f",
   "metadata": {},
   "outputs": [],
   "source": [
    "!pip install -q transformers accelerate torch matplotlib pandas\n"
   ]
  },
  {
   "cell_type": "code",
   "execution_count": 2,
   "id": "69ff29a1-8a96-4b21-ac3a-ab4f0334bc27",
   "metadata": {},
   "outputs": [
    {
     "name": "stderr",
     "output_type": "stream",
     "text": [
      "/home/harshal/miniconda3/lib/python3.13/site-packages/tqdm/auto.py:21: TqdmWarning: IProgress not found. Please update jupyter and ipywidgets. See https://ipywidgets.readthedocs.io/en/stable/user_install.html\n",
      "  from .autonotebook import tqdm as notebook_tqdm\n"
     ]
    }
   ],
   "source": [
    "from transformers import AutoTokenizer, AutoModelForCausalLM, pipeline\n",
    "import pandas as pd, matplotlib.pyplot as plt, json, io, base64, textwrap\n",
    "from IPython.display import Image, display\n"
   ]
  },
  {
   "cell_type": "markdown",
   "id": "f30ab0c3-14d9-4261-a7c6-c2098400e99b",
   "metadata": {},
   "source": [
    "### Cell 2 – load Qwen llm"
   ]
  },
  {
   "cell_type": "code",
   "execution_count": 3,
   "id": "fb93094c-26b9-433d-b305-6c6ccb8df73b",
   "metadata": {},
   "outputs": [
    {
     "name": "stderr",
     "output_type": "stream",
     "text": [
      "Loading checkpoint shards: 100%|██████████████████| 2/2 [00:03<00:00,  1.89s/it]\n",
      "Some parameters are on the meta device because they were offloaded to the disk and cpu.\n",
      "Device set to use cpu\n"
     ]
    }
   ],
   "source": [
    "model_id = \"Qwen/Qwen2.5-3B-Instruct\"\n",
    "tok = AutoTokenizer.from_pretrained(model_id)\n",
    "mod = AutoModelForCausalLM.from_pretrained(model_id, device_map=\"auto\")\n",
    "llm = pipeline(\"text-generation\", model=mod, tokenizer=tok)\n",
    "\n",
    "def ask_llm(prompt, max_new_tokens=250):\n",
    "    out = llm(prompt, max_new_tokens=max_new_tokens, do_sample=False)\n",
    "    return out[0][\"generated_text\"].split(prompt)[-1].strip()\n"
   ]
  },
  {
   "cell_type": "markdown",
   "id": "4e026728-d968-416c-a1ae-e0870291fab3",
   "metadata": {},
   "source": [
    "### Cell 3 – Shared Utils + Tool Executor"
   ]
  },
  {
   "cell_type": "code",
   "execution_count": 4,
   "id": "90a3c40c-e0f6-4f94-9db4-304fe42ba8e3",
   "metadata": {},
   "outputs": [],
   "source": [
    "def run_python(code, local_vars=None):\n",
    "    g = {} if local_vars is None else dict(local_vars)\n",
    "    try:\n",
    "        exec(code, {}, g)\n",
    "        return {\"ok\": True, \"globals\": g}\n",
    "    except Exception as e:\n",
    "        return {\"ok\": False, \"error\": str(e)}\n",
    "\n",
    "def b64_chart(x, y, title=\"Chart\"):\n",
    "    plt.figure()\n",
    "    plt.plot(x, y, marker=\"o\"); plt.title(title)\n",
    "    buf = io.BytesIO(); plt.savefig(buf, format=\"png\")\n",
    "    return base64.b64encode(buf.getvalue()).decode()\n",
    "\n",
    "def show_chart(b64): display(Image(data=base64.b64decode(b64)))\n"
   ]
  },
  {
   "cell_type": "markdown",
   "id": "a4dc4818-4642-41e4-982c-b78af314eb94",
   "metadata": {},
   "source": [
    "### Cell 4 – Planner Agent"
   ]
  },
  {
   "cell_type": "code",
   "execution_count": 5,
   "id": "83220c6d-20c9-461a-a8e0-ec3eb099036d",
   "metadata": {},
   "outputs": [],
   "source": [
    "# # =========================\n",
    "# # Normalizer (SYSTEM v3)\n",
    "# # =========================\n",
    "# SYSTEM = \n",
    "# # =========================\n",
    "# # Normalizer (USER_TMPL v3)\n",
    "# # =========================\n",
    "# USER_TMPL = \"\"\"\n",
    "    \n",
    "def planner_agent(request, context):\n",
    "    prompt = f\"\"\"\n",
    "You are a planner AI.\n",
    "If the request is ambiguous, ask ONE clarifying question first in JSON:\n",
    "{{\"need_clarification\":true,\"question\":\"...\"}}\n",
    "Otherwise, output JSON plan:\n",
    "{{\"need_clarification\":false,\"steps\":[{{\"agent\":\"Researcher\",\"task\":\"...\"}}]}}\n",
    "User request: {request}\n",
    "\"\"\"\n",
    "    ans = ask_llm(prompt)\n",
    "    try: plan = json.loads(ans)\n",
    "    except: plan = {\"need_clarification\":False,\n",
    "                    \"steps\":[{\"agent\":\"Researcher\",\"task\":request},\n",
    "                             {\"agent\":\"Coder\",\"task\":\"Plot trend\"},\n",
    "                             {\"agent\":\"Analyst\",\"task\":\"Interpret chart\"},\n",
    "                             {\"agent\":\"Writer\",\"task\":\"Summarize\"}]}\n",
    "    print(\"🧭 Plan:\", plan)\n",
    "    return plan\n"
   ]
  },
  {
   "cell_type": "markdown",
   "id": "435f6bb5-3341-47c4-94cc-8b5674cbb4f9",
   "metadata": {},
   "source": [
    "### Cell 5 – Agents (Roles + Prompts)"
   ]
  },
  {
   "cell_type": "code",
   "execution_count": 22,
   "id": "9b7360f7-dd34-422f-8755-fa935ffd611e",
   "metadata": {},
   "outputs": [],
   "source": [
    "# updated\n",
    "def coder_agent(task, context):\n",
    "    \"\"\"Aggregate last 3 quarters from transaction_date / transaction_amount and plot.\"\"\"\n",
    "    if context.get(\"data_df\") is not None:\n",
    "        df = context[\"data_df\"].copy()\n",
    "\n",
    "        # Detect columns\n",
    "        date_col = next((c for c in df.columns if \"date\" in c.lower()), None)\n",
    "        amt_col  = next((c for c in df.columns if \"amount\" in c.lower()), None)\n",
    "\n",
    "        if date_col and amt_col:\n",
    "            df[date_col] = pd.to_datetime(df[date_col], errors=\"coerce\")\n",
    "            df = df.dropna(subset=[date_col, amt_col])\n",
    "\n",
    "            # Quarterly aggregation (avoids deprecated 'Q' grouper usage)\n",
    "            qsum = (\n",
    "                df.resample(\"Q\", on=date_col)[amt_col]\n",
    "                  .sum()\n",
    "                  .reset_index()\n",
    "                  .sort_values(date_col)\n",
    "            )\n",
    "\n",
    "            # Keep last 3 quarters\n",
    "            qsum = qsum.tail(3).reset_index(drop=True)\n",
    "\n",
    "            # Build labels like 2025Q1, 2025Q2, ...\n",
    "            x = qsum[date_col].dt.to_period(\"Q\").astype(str).tolist()\n",
    "            y = qsum[amt_col].tolist()\n",
    "\n",
    "            img = b64_chart(x, y, \"Quarterly Transaction Volume\")\n",
    "            context[\"chart\"] = img\n",
    "            context[\"quarterly_summary\"] = qsum\n",
    "            print(\"🧮 Coder aggregated last 3 quarters.\")\n",
    "            return img\n",
    "\n",
    "        print(\"⚠️ Coder: Could not detect date or amount columns. Using mock data.\")\n",
    "        x, y = [\"Q1\",\"Q2\",\"Q3\"], [100, 150, 180]\n",
    "        img = b64_chart(x, y, \"Simulated Trend\")\n",
    "        context[\"chart\"] = img\n",
    "        return img\n",
    "\n",
    "    # Fallback mock\n",
    "    x, y = [\"Q1\",\"Q2\",\"Q3\"], [100, 150, 180]\n",
    "    img = b64_chart(x, y, \"Simulated Trend\")\n",
    "    context[\"chart\"] = img\n",
    "    print(\"🧮 Coder generated mock chart.\")\n",
    "    return img\n",
    "\n",
    "\n",
    "def analyst_agent(task, context):\n",
    "    \"\"\"Explain quarterly movement using actual totals when available.\"\"\"\n",
    "    if \"quarterly_summary\" in context:\n",
    "        qsum = context[\"quarterly_summary\"].copy()\n",
    "        # qsum has 3 rows, column 1 is the aggregated amount\n",
    "        first = float(qsum.iloc[0, 1]) if qsum.shape[1] > 1 else 0.0\n",
    "        middle = float(qsum.iloc[1, 1]) if qsum.shape[0] > 1 else 0.0\n",
    "        last  = float(qsum.iloc[2, 1]) if qsum.shape[0] > 2 else 0.0\n",
    "        growth_pct = ((last / first) - 1.0) * 100 if first > 0 else 0.0\n",
    "\n",
    "        labels = qsum.iloc[:, 0].dt.to_period(\"Q\").astype(str).tolist()\n",
    "        desc = (\n",
    "            f\"Quarterly totals ({', '.join(labels)}): \"\n",
    "            f\"{first:.2f}, {middle:.2f}, {last:.2f}. \"\n",
    "            f\"Overall change: {growth_pct:.2f}% from first to last quarter.\"\n",
    "        )\n",
    "        context[\"analysis\"] = desc\n",
    "        print(\"🔍 Analyst (data-based):\", desc)\n",
    "        return desc\n",
    "\n",
    "    # Fallback to text-only analysis\n",
    "    notes = context.get(\"research_notes\", \"\")\n",
    "    prompt = f\"You are an analyst. Interpret this information:\\n{notes}\\nBe concise.\"\n",
    "    out = ask_llm(prompt)\n",
    "    context[\"analysis\"] = out\n",
    "    print(\"🔍 Analyst (text-based):\", out[:120])\n",
    "    return out\n"
   ]
  },
  {
   "cell_type": "markdown",
   "id": "937aed73-ddd8-439e-a717-54cbfdbce060",
   "metadata": {},
   "source": [
    "### Cell 6 – Orchestrator"
   ]
  },
  {
   "cell_type": "code",
   "execution_count": 23,
   "id": "5ebadc0e-0fea-4995-8751-f0655fc8cadf",
   "metadata": {},
   "outputs": [],
   "source": [
    "def orchestrator(request, data_path=None):\n",
    "    ctx = {}\n",
    "    if data_path:\n",
    "        try: ctx[\"data_df\"]=pd.read_csv(data_path) if data_path.endswith(\".csv\") else pd.read_json(data_path)\n",
    "        except Exception as e: print(\"⚠️ Data load failed:\", e)\n",
    "    plan = planner_agent(request, ctx)\n",
    "    if plan.get(\"need_clarification\"):\n",
    "        q=plan[\"question\"]; print(\"❓ Clarification asked:\", q)\n",
    "        ans=input(\"Your answer: \"); return orchestrator(ans, data_path)\n",
    "    for s in plan[\"steps\"]:\n",
    "        a=s[\"agent\"].lower()\n",
    "        if a==\"researcher\": researcher_agent(s[\"task\"], ctx)\n",
    "        elif a==\"coder\": coder_agent(s[\"task\"], ctx)\n",
    "        elif a==\"analyst\": analyst_agent(s[\"task\"], ctx)\n",
    "        elif a==\"writer\": writer_agent(s[\"task\"], ctx)\n",
    "    return {\"request\":request,\"summary\":ctx.get(\"final_summary\",\"\"),\n",
    "            \"chart\":ctx.get(\"chart\"),\"context\":ctx}\n"
   ]
  },
  {
   "cell_type": "markdown",
   "id": "6a2996b0-c891-4f69-b66c-71b8c08c732a",
   "metadata": {},
   "source": [
    "### Cell 7 – Run with Optional CSV"
   ]
  },
  {
   "cell_type": "code",
   "execution_count": 25,
   "id": "de5de59d-bec9-4872-8a0b-34ffca0d0711",
   "metadata": {},
   "outputs": [
    {
     "name": "stderr",
     "output_type": "stream",
     "text": [
      "The following generation flags are not valid and may be ignored: ['temperature', 'top_p', 'top_k']. Set `TRANSFORMERS_VERBOSITY=info` for more details.\n",
      "/tmp/ipykernel_13622/173107549.py:17: FutureWarning: 'Q' is deprecated and will be removed in a future version, please use 'QE' instead.\n",
      "  df.resample(\"Q\", on=date_col)[amt_col]\n",
      "The following generation flags are not valid and may be ignored: ['temperature', 'top_p', 'top_k']. Set `TRANSFORMERS_VERBOSITY=info` for more details.\n"
     ]
    },
    {
     "name": "stdout",
     "output_type": "stream",
     "text": [
      "🧭 Plan: {'need_clarification': False, 'steps': [{'agent': 'Researcher', 'task': 'Summarize the last three quarters’ financial performance and create a chart.'}, {'agent': 'Coder', 'task': 'Plot trend'}, {'agent': 'Analyst', 'task': 'Interpret chart'}, {'agent': 'Writer', 'task': 'Summarize'}]}\n",
      "📊 Researcher used uploaded data.\n",
      "🧮 Coder aggregated last 3 quarters.\n",
      "🔍 Analyst (data-based): Quarterly totals (2025Q2, 2025Q3, 2025Q4): 257916.68, 247988.14, 46608.06. Overall change: -81.93% from first to last quarter.\n",
      "📝 Writer: The numeric summary indicates that the transaction amount has a mean of $509.55 with a standard deviation of $283.91 and\n",
      "{\n",
      "  \"request\": \"Summarize the last three quarters\\u2019 financial performance and create a chart.\",\n",
      "  \"summary\": \"The numeric summary indicates that the transaction amount has a mean of $509.55 with a standard deviation of $283.91 and ranges from $10.21 to $998.56. Quarterly totals for 2025Q2, 2025Q3, and 2025Q4 are $257,916.68, $247,988.14, and $46,608.06 respectively. The overall change from the ...\n"
     ]
    },
    {
     "data": {
      "image/png": "[encoded data removed]",
      "text/plain": [
       "<Figure size 640x480 with 1 Axes>"
      ]
     },
     "metadata": {},
     "output_type": "display_data"
    }
   ],
   "source": [
    "# Example 1: no CSV → simulated data\n",
    "user_req = \"Summarize the last three quarters’ financial performance and create a chart.\"\n",
    "final = orchestrator(user_req, data_path = 'sales.csv')\n",
    "\n",
    "print(json.dumps({k:v for k,v in final.items() if k!='context'}, indent=2)[:400], \"...\")\n"
   ]
  },
  {
   "cell_type": "markdown",
   "id": "2c1d636c-f982-435b-aeab-d10ec3f6911d",
   "metadata": {},
   "source": [
    "### Cell 8 – Visualize (if exists)"
   ]
  },
  {
   "cell_type": "code",
   "execution_count": 20,
   "id": "07f72410-b8ed-45d8-898b-9ef923d8d82a",
   "metadata": {},
   "outputs": [
    {
     "name": "stdout",
     "output_type": "stream",
     "text": [
      "\n",
      "📊 Quarterly Trend Visualization:\n"
     ]
    },
    {
     "data": {
      "image/png": "[encoded data removed]",
      "text/plain": [
       "<IPython.core.display.Image object>"
      ]
     },
     "metadata": {},
     "output_type": "display_data"
    }
   ],
   "source": [
    "if final.get(\"chart\"):\n",
    "    print(\"\\n📊 Quarterly Trend Visualization:\")\n",
    "    show_chart(final[\"chart\"])\n"
   ]
  },
  {
   "cell_type": "code",
   "execution_count": null,
   "id": "6f90d63e-0feb-4f48-8959-e4b065ddd96c",
   "metadata": {},
   "outputs": [],
   "source": []
  },
  {
   "cell_type": "code",
   "execution_count": null,
   "id": "caf7e351-0cb7-4c61-98b9-5c6fe7595ae7",
   "metadata": {},
   "outputs": [],
   "source": []
  },
  {
   "cell_type": "code",
   "execution_count": null,
   "id": "fcd32761-fd6e-426e-806e-121eb3714719",
   "metadata": {},
   "outputs": [],
   "source": []
  },
  {
   "cell_type": "markdown",
   "id": "01d9c7ce-2e52-4329-a264-3fc5618ad356",
   "metadata": {},
   "source": [
    "## csv rough"
   ]
  },
  {
   "cell_type": "code",
   "execution_count": null,
   "id": "78c3bca1-73fd-439c-b59e-ade0abcf604e",
   "metadata": {},
   "outputs": [],
   "source": [
    "import pandas as pd, numpy as np\n",
    "from datetime import datetime, timedelta\n",
    "import random, string\n",
    "\n",
    "# config\n",
    "n_users = 25\n",
    "records = 2000\n",
    "end_date = datetime.today()\n",
    "start_date = end_date - timedelta(days=365)\n",
    "\n",
    "\n",
    "def random_card():\n",
    "    return ''.join(random.choices(string.digits, k=4)) + \"XXXX\" + ''.join(random.choices(string.digits, k=4))\n",
    "\n",
    "# generate data debugg_1\n",
    "data = []\n",
    "for _ in range(records):\n",
    "    user = f\"U{random.randint(100,999)}\"\n",
    "    card = random_card()\n",
    "    date = start_date + timedelta(days=random.randint(0,365))\n",
    "    amt = round(random.uniform(10, 1000), 2)\n",
    "    data.append([user, card, amt, date.strftime(\"%Y-%m-%d\")])\n",
    "\n",
    "df = pd.DataFrame(data, columns=[\"customer_id\", \"card_no\", \"transaction_amount\", \"transaction_date\"])\n",
    "df.to_csv(\"sales.csv\", index=False)\n",
    "print(\"✅ Generated sales.csv with\", len(df), \"rows\")\n",
    "df.head(10)\n"
   ]
  }
 ],
 "metadata": {
  "kernelspec": {
   "display_name": "Python 3 (ipykernel)",
   "language": "python",
   "name": "python3"
  },
  "language_info": {
   "codemirror_mode": {
    "name": "ipython",
    "version": 3
   },
   "file_extension": ".py",
   "mimetype": "text/x-python",
   "name": "python",
   "nbconvert_exporter": "python",
   "pygments_lexer": "ipython3",
   "version": "3.13.5"
  }
 },
 "nbformat": 4,
 "nbformat_minor": 5
}
